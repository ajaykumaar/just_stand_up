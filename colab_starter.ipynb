{
  "cells": [
    {
      "cell_type": "markdown",
      "id": "3507dd41",
      "metadata": {
        "id": "3507dd41"
      },
      "source": [
        "# Just Stand Up\n",
        "Train a humanoid to stand up using reinforcement learning.\n",
        "\n",
        "This notebook sets up the environment and tools, but **you'll need to implement the key logic**."
      ]
    },
    {
      "cell_type": "markdown",
      "id": "6f3391d8",
      "metadata": {
        "id": "6f3391d8"
      },
      "source": [
        "## 📦 Install dependencies"
      ]
    },
    {
      "cell_type": "code",
      "source": [
        "!git clone -q https://github.com/ajaykumaar/just_stand_up.git"
      ],
      "metadata": {
        "id": "4jM5NDIawrfl"
      },
      "id": "4jM5NDIawrfl",
      "execution_count": 1,
      "outputs": []
    },
    {
      "cell_type": "code",
      "execution_count": 2,
      "id": "68bb45e9",
      "metadata": {
        "collapsed": true,
        "id": "68bb45e9",
        "outputId": "229dbdf3-406a-4b8f-8a5d-ff90f4a0d160",
        "colab": {
          "base_uri": "https://localhost:8080/"
        }
      },
      "outputs": [
        {
          "output_type": "stream",
          "name": "stdout",
          "text": [
            "\u001b[2K     \u001b[90m━━━━━━━━━━━━━━━━━━━━━━━━━━━━━━━━━━━━━━━━\u001b[0m \u001b[32m44.4/44.4 kB\u001b[0m \u001b[31m2.8 MB/s\u001b[0m eta \u001b[36m0:00:00\u001b[0m\n",
            "\u001b[2K   \u001b[90m━━━━━━━━━━━━━━━━━━━━━━━━━━━━━━━━━━━━━━━━\u001b[0m \u001b[32m56.4/56.4 MB\u001b[0m \u001b[31m14.0 MB/s\u001b[0m eta \u001b[36m0:00:00\u001b[0m\n",
            "\u001b[2K   \u001b[90m━━━━━━━━━━━━━━━━━━━━━━━━━━━━━━━━━━━━━━━━\u001b[0m \u001b[32m6.6/6.6 MB\u001b[0m \u001b[31m91.8 MB/s\u001b[0m eta \u001b[36m0:00:00\u001b[0m\n",
            "\u001b[2K   \u001b[90m━━━━━━━━━━━━━━━━━━━━━━━━━━━━━━━━━━━━━━━━\u001b[0m \u001b[32m243.4/243.4 kB\u001b[0m \u001b[31m18.1 MB/s\u001b[0m eta \u001b[36m0:00:00\u001b[0m\n",
            "\u001b[2K   \u001b[90m━━━━━━━━━━━━━━━━━━━━━━━━━━━━━━━━━━━━━━━━\u001b[0m \u001b[32m4.9/4.9 MB\u001b[0m \u001b[31m75.3 MB/s\u001b[0m eta \u001b[36m0:00:00\u001b[0m\n",
            "\u001b[2K   \u001b[90m━━━━━━━━━━━━━━━━━━━━━━━━━━━━━━━━━━━━━━━━\u001b[0m \u001b[32m184.5/184.5 kB\u001b[0m \u001b[31m10.9 MB/s\u001b[0m eta \u001b[36m0:00:00\u001b[0m\n",
            "\u001b[2K   \u001b[90m━━━━━━━━━━━━━━━━━━━━━━━━━━━━━━━━━━━━━━━━\u001b[0m \u001b[32m363.4/363.4 MB\u001b[0m \u001b[31m4.0 MB/s\u001b[0m eta \u001b[36m0:00:00\u001b[0m\n",
            "\u001b[2K   \u001b[90m━━━━━━━━━━━━━━━━━━━━━━━━━━━━━━━━━━━━━━━━\u001b[0m \u001b[32m13.8/13.8 MB\u001b[0m \u001b[31m51.2 MB/s\u001b[0m eta \u001b[36m0:00:00\u001b[0m\n",
            "\u001b[2K   \u001b[90m━━━━━━━━━━━━━━━━━━━━━━━━━━━━━━━━━━━━━━━━\u001b[0m \u001b[32m24.6/24.6 MB\u001b[0m \u001b[31m37.4 MB/s\u001b[0m eta \u001b[36m0:00:00\u001b[0m\n",
            "\u001b[2K   \u001b[90m━━━━━━━━━━━━━━━━━━━━━━━━━━━━━━━━━━━━━━━━\u001b[0m \u001b[32m883.7/883.7 kB\u001b[0m \u001b[31m34.2 MB/s\u001b[0m eta \u001b[36m0:00:00\u001b[0m\n",
            "\u001b[2K   \u001b[90m━━━━━━━━━━━━━━━━━━━━━━━━━━━━━━━━━━━━━━━━\u001b[0m \u001b[32m664.8/664.8 MB\u001b[0m \u001b[31m2.1 MB/s\u001b[0m eta \u001b[36m0:00:00\u001b[0m\n",
            "\u001b[2K   \u001b[90m━━━━━━━━━━━━━━━━━━━━━━━━━━━━━━━━━━━━━━━━\u001b[0m \u001b[32m211.5/211.5 MB\u001b[0m \u001b[31m5.8 MB/s\u001b[0m eta \u001b[36m0:00:00\u001b[0m\n",
            "\u001b[2K   \u001b[90m━━━━━━━━━━━━━━━━━━━━━━━━━━━━━━━━━━━━━━━━\u001b[0m \u001b[32m56.3/56.3 MB\u001b[0m \u001b[31m11.8 MB/s\u001b[0m eta \u001b[36m0:00:00\u001b[0m\n",
            "\u001b[2K   \u001b[90m━━━━━━━━━━━━━━━━━━━━━━━━━━━━━━━━━━━━━━━━\u001b[0m \u001b[32m127.9/127.9 MB\u001b[0m \u001b[31m8.0 MB/s\u001b[0m eta \u001b[36m0:00:00\u001b[0m\n",
            "\u001b[2K   \u001b[90m━━━━━━━━━━━━━━━━━━━━━━━━━━━━━━━━━━━━━━━━\u001b[0m \u001b[32m207.5/207.5 MB\u001b[0m \u001b[31m5.7 MB/s\u001b[0m eta \u001b[36m0:00:00\u001b[0m\n",
            "\u001b[2K   \u001b[90m━━━━━━━━━━━━━━━━━━━━━━━━━━━━━━━━━━━━━━━━\u001b[0m \u001b[32m21.1/21.1 MB\u001b[0m \u001b[31m84.1 MB/s\u001b[0m eta \u001b[36m0:00:00\u001b[0m\n",
            "\u001b[?25h"
          ]
        }
      ],
      "source": [
        "!pip install -q dm_control\n",
        "!pip install -q stable-baselines3\n",
        "!pip install -q gym"
      ]
    },
    {
      "cell_type": "markdown",
      "id": "140b2551",
      "metadata": {
        "id": "140b2551"
      },
      "source": [
        "## 🧠 Load the Humanoid environment (from dm_control)"
      ]
    },
    {
      "cell_type": "code",
      "execution_count": 1,
      "id": "a773f822",
      "metadata": {
        "id": "a773f822",
        "outputId": "4133f491-b472-476c-c8a0-137e9d48c568",
        "colab": {
          "base_uri": "https://localhost:8080/"
        }
      },
      "outputs": [
        {
          "output_type": "stream",
          "name": "stderr",
          "text": [
            "/usr/local/lib/python3.11/dist-packages/glfw/__init__.py:917: GLFWError: (65550) b'X11: The DISPLAY environment variable is missing'\n",
            "  warnings.warn(message, GLFWError)\n"
          ]
        },
        {
          "output_type": "stream",
          "name": "stdout",
          "text": [
            "Observation spec: OrderedDict([('joint_angles', Array(shape=(21,), dtype=dtype('float64'), name='joint_angles')), ('head_height', Array(shape=(), dtype=dtype('float64'), name='head_height')), ('extremities', Array(shape=(12,), dtype=dtype('float64'), name='extremities')), ('torso_vertical', Array(shape=(3,), dtype=dtype('float64'), name='torso_vertical')), ('com_velocity', Array(shape=(3,), dtype=dtype('float64'), name='com_velocity')), ('velocity', Array(shape=(27,), dtype=dtype('float64'), name='velocity'))])\n"
          ]
        }
      ],
      "source": [
        "from dm_control import suite\n",
        "\n",
        "# Load humanoid standing task\n",
        "env = suite.load(domain_name=\"humanoid\", task_name=\"stand\")\n",
        "\n",
        "# Explore observation space\n",
        "obs_spec = env.observation_spec()\n",
        "print(\"Observation spec:\", obs_spec)\n",
        "\n",
        "# TODO: Wrap this env to make it compatible with stable-baselines3\n"
      ]
    },
    {
      "cell_type": "code",
      "source": [
        "for obs_cat in list(obs_spec.keys()):\n",
        "  print(obs_spec[obs_cat])"
      ],
      "metadata": {
        "id": "_PI06NwsYPXh",
        "outputId": "978eb0f2-1300-4a64-b13b-63aa6c57e073",
        "colab": {
          "base_uri": "https://localhost:8080/"
        }
      },
      "id": "_PI06NwsYPXh",
      "execution_count": 11,
      "outputs": [
        {
          "output_type": "stream",
          "name": "stdout",
          "text": [
            "Array(shape=(21,), dtype=dtype('float64'), name='joint_angles')\n",
            "Array(shape=(), dtype=dtype('float64'), name='head_height')\n",
            "Array(shape=(12,), dtype=dtype('float64'), name='extremities')\n",
            "Array(shape=(3,), dtype=dtype('float64'), name='torso_vertical')\n",
            "Array(shape=(3,), dtype=dtype('float64'), name='com_velocity')\n",
            "Array(shape=(27,), dtype=dtype('float64'), name='velocity')\n"
          ]
        }
      ]
    },
    {
      "cell_type": "code",
      "source": [
        "21+1+12+3+3+27"
      ],
      "metadata": {
        "id": "61mNOyHBZRtL",
        "outputId": "070b4f18-87b3-4805-dcb2-387871346c1e",
        "colab": {
          "base_uri": "https://localhost:8080/"
        }
      },
      "id": "61mNOyHBZRtL",
      "execution_count": 12,
      "outputs": [
        {
          "output_type": "execute_result",
          "data": {
            "text/plain": [
              "67"
            ]
          },
          "metadata": {},
          "execution_count": 12
        }
      ]
    },
    {
      "cell_type": "code",
      "source": [],
      "metadata": {
        "id": "LtgjaJWoyk2p",
        "outputId": "95bb2710-9780-4362-9fcd-24667edcfac9",
        "colab": {
          "base_uri": "https://localhost:8080/"
        }
      },
      "id": "LtgjaJWoyk2p",
      "execution_count": 4,
      "outputs": [
        {
          "output_type": "stream",
          "name": "stdout",
          "text": [
            "\n",
            " Observation space:\n",
            "joint_angles: shape=(21,), sample=[ 0.36212236  0.38215001 -0.06353973 -0.26139594  0.49320975]...\n",
            "head_height: shape=(), sample=[1.31775704]...\n",
            "extremities: shape=(12,), sample=[-0.17623644  0.67599325 -0.10345743 -0.06086698 -0.04078925]...\n",
            "torso_vertical: shape=(3,), sample=[-0.09338441  0.26695611 -0.95917349]...\n",
            "com_velocity: shape=(3,), sample=[0. 0. 0.]...\n",
            "velocity: shape=(27,), sample=[0. 0. 0. 0. 0.]...\n",
            "\n",
            " Action Space:\n",
            "Shape: (21,), Minimum: [-1. -1. -1. -1. -1. -1. -1. -1. -1. -1. -1. -1. -1. -1. -1. -1. -1. -1.\n",
            " -1. -1. -1.], Maximum: [1. 1. 1. 1. 1. 1. 1. 1. 1. 1. 1. 1. 1. 1. 1. 1. 1. 1. 1. 1. 1.]\n"
          ]
        }
      ]
    },
    {
      "cell_type": "code",
      "source": [],
      "metadata": {
        "id": "zzrbNlLZzGSQ"
      },
      "id": "zzrbNlLZzGSQ",
      "execution_count": null,
      "outputs": []
    },
    {
      "cell_type": "markdown",
      "source": [
        "### Visualize"
      ],
      "metadata": {
        "id": "4Ce4HM3zzPJZ"
      },
      "id": "4Ce4HM3zzPJZ"
    },
    {
      "cell_type": "code",
      "source": [
        "!pip install -q opencv-python\n",
        "# Step 1: System packages for EGL\n",
        "!apt-get install -y libosmesa6-dev libgl1-mesa-glx libglfw3\n",
        "\n",
        "# Step 2: Install mujoco + dm_control\n",
        "!pip install mujoco==2.3.7\n",
        "!pip install dm_control\n"
      ],
      "metadata": {
        "collapsed": true,
        "id": "ZrUIIorgzUHq",
        "outputId": "3966440c-0715-4c46-b44d-fb0239237a67",
        "colab": {
          "base_uri": "https://localhost:8080/",
          "height": 1000
        }
      },
      "id": "ZrUIIorgzUHq",
      "execution_count": 2,
      "outputs": [
        {
          "output_type": "stream",
          "name": "stdout",
          "text": [
            "Reading package lists... Done\n",
            "Building dependency tree... Done\n",
            "Reading state information... Done\n",
            "The following additional packages will be installed:\n",
            "  libdrm-dev libgl-dev libglx-dev libosmesa6 libpciaccess-dev mesa-common-dev\n",
            "Suggested packages:\n",
            "  libgles1 libvulkan1\n",
            "The following NEW packages will be installed:\n",
            "  libdrm-dev libgl-dev libgl1-mesa-glx libglfw3 libglx-dev libosmesa6 libosmesa6-dev\n",
            "  libpciaccess-dev mesa-common-dev\n",
            "0 upgraded, 9 newly installed, 0 to remove and 30 not upgraded.\n",
            "Need to get 5,850 kB of archives.\n",
            "After this operation, 18.9 MB of additional disk space will be used.\n",
            "Get:1 http://archive.ubuntu.com/ubuntu jammy/main amd64 libpciaccess-dev amd64 0.16-3 [21.9 kB]\n",
            "Get:2 http://archive.ubuntu.com/ubuntu jammy-updates/main amd64 libdrm-dev amd64 2.4.113-2~ubuntu0.22.04.1 [292 kB]\n",
            "Get:3 http://archive.ubuntu.com/ubuntu jammy/main amd64 libglx-dev amd64 1.4.0-1 [14.1 kB]\n",
            "Get:4 http://archive.ubuntu.com/ubuntu jammy/main amd64 libgl-dev amd64 1.4.0-1 [101 kB]\n",
            "Get:5 http://archive.ubuntu.com/ubuntu jammy-updates/universe amd64 libgl1-mesa-glx amd64 23.0.4-0ubuntu1~22.04.1 [5,584 B]\n",
            "Get:6 http://archive.ubuntu.com/ubuntu jammy/universe amd64 libglfw3 amd64 3.3.6-1 [83.2 kB]\n",
            "Get:7 http://archive.ubuntu.com/ubuntu jammy-updates/main amd64 mesa-common-dev amd64 23.2.1-1ubuntu3.1~22.04.3 [2,208 kB]\n",
            "Get:8 http://archive.ubuntu.com/ubuntu jammy-updates/main amd64 libosmesa6 amd64 23.2.1-1ubuntu3.1~22.04.3 [3,115 kB]\n",
            "Get:9 http://archive.ubuntu.com/ubuntu jammy-updates/main amd64 libosmesa6-dev amd64 23.2.1-1ubuntu3.1~22.04.3 [8,984 B]\n",
            "Fetched 5,850 kB in 1s (5,068 kB/s)\n",
            "Selecting previously unselected package libpciaccess-dev:amd64.\n",
            "(Reading database ... 126213 files and directories currently installed.)\n",
            "Preparing to unpack .../0-libpciaccess-dev_0.16-3_amd64.deb ...\n",
            "Unpacking libpciaccess-dev:amd64 (0.16-3) ...\n",
            "Selecting previously unselected package libdrm-dev:amd64.\n",
            "Preparing to unpack .../1-libdrm-dev_2.4.113-2~ubuntu0.22.04.1_amd64.deb ...\n",
            "Unpacking libdrm-dev:amd64 (2.4.113-2~ubuntu0.22.04.1) ...\n",
            "Selecting previously unselected package libglx-dev:amd64.\n",
            "Preparing to unpack .../2-libglx-dev_1.4.0-1_amd64.deb ...\n",
            "Unpacking libglx-dev:amd64 (1.4.0-1) ...\n",
            "Selecting previously unselected package libgl-dev:amd64.\n",
            "Preparing to unpack .../3-libgl-dev_1.4.0-1_amd64.deb ...\n",
            "Unpacking libgl-dev:amd64 (1.4.0-1) ...\n",
            "Selecting previously unselected package libgl1-mesa-glx:amd64.\n",
            "Preparing to unpack .../4-libgl1-mesa-glx_23.0.4-0ubuntu1~22.04.1_amd64.deb ...\n",
            "Unpacking libgl1-mesa-glx:amd64 (23.0.4-0ubuntu1~22.04.1) ...\n",
            "Selecting previously unselected package libglfw3:amd64.\n",
            "Preparing to unpack .../5-libglfw3_3.3.6-1_amd64.deb ...\n",
            "Unpacking libglfw3:amd64 (3.3.6-1) ...\n",
            "Selecting previously unselected package mesa-common-dev:amd64.\n",
            "Preparing to unpack .../6-mesa-common-dev_23.2.1-1ubuntu3.1~22.04.3_amd64.deb ...\n",
            "Unpacking mesa-common-dev:amd64 (23.2.1-1ubuntu3.1~22.04.3) ...\n",
            "Selecting previously unselected package libosmesa6:amd64.\n",
            "Preparing to unpack .../7-libosmesa6_23.2.1-1ubuntu3.1~22.04.3_amd64.deb ...\n",
            "Unpacking libosmesa6:amd64 (23.2.1-1ubuntu3.1~22.04.3) ...\n",
            "Selecting previously unselected package libosmesa6-dev:amd64.\n",
            "Preparing to unpack .../8-libosmesa6-dev_23.2.1-1ubuntu3.1~22.04.3_amd64.deb ...\n",
            "Unpacking libosmesa6-dev:amd64 (23.2.1-1ubuntu3.1~22.04.3) ...\n",
            "Setting up libglfw3:amd64 (3.3.6-1) ...\n",
            "Setting up libpciaccess-dev:amd64 (0.16-3) ...\n",
            "Setting up libgl1-mesa-glx:amd64 (23.0.4-0ubuntu1~22.04.1) ...\n",
            "Setting up libglx-dev:amd64 (1.4.0-1) ...\n",
            "Setting up libgl-dev:amd64 (1.4.0-1) ...\n",
            "Setting up libosmesa6:amd64 (23.2.1-1ubuntu3.1~22.04.3) ...\n",
            "Setting up libdrm-dev:amd64 (2.4.113-2~ubuntu0.22.04.1) ...\n",
            "Setting up libosmesa6-dev:amd64 (23.2.1-1ubuntu3.1~22.04.3) ...\n",
            "Setting up mesa-common-dev:amd64 (23.2.1-1ubuntu3.1~22.04.3) ...\n",
            "Processing triggers for man-db (2.10.2-1) ...\n",
            "Processing triggers for libc-bin (2.35-0ubuntu3.8) ...\n",
            "/sbin/ldconfig.real: /usr/local/lib/libtbbmalloc_proxy.so.2 is not a symbolic link\n",
            "\n",
            "/sbin/ldconfig.real: /usr/local/lib/libtbbmalloc.so.2 is not a symbolic link\n",
            "\n",
            "/sbin/ldconfig.real: /usr/local/lib/libtcm_debug.so.1 is not a symbolic link\n",
            "\n",
            "/sbin/ldconfig.real: /usr/local/lib/libumf.so.0 is not a symbolic link\n",
            "\n",
            "/sbin/ldconfig.real: /usr/local/lib/libur_adapter_level_zero.so.0 is not a symbolic link\n",
            "\n",
            "/sbin/ldconfig.real: /usr/local/lib/libhwloc.so.15 is not a symbolic link\n",
            "\n",
            "/sbin/ldconfig.real: /usr/local/lib/libur_loader.so.0 is not a symbolic link\n",
            "\n",
            "/sbin/ldconfig.real: /usr/local/lib/libtbbbind_2_0.so.3 is not a symbolic link\n",
            "\n",
            "/sbin/ldconfig.real: /usr/local/lib/libur_adapter_opencl.so.0 is not a symbolic link\n",
            "\n",
            "/sbin/ldconfig.real: /usr/local/lib/libtcm.so.1 is not a symbolic link\n",
            "\n",
            "/sbin/ldconfig.real: /usr/local/lib/libtbb.so.12 is not a symbolic link\n",
            "\n",
            "/sbin/ldconfig.real: /usr/local/lib/libtbbbind_2_5.so.3 is not a symbolic link\n",
            "\n",
            "/sbin/ldconfig.real: /usr/local/lib/libtbbbind.so.3 is not a symbolic link\n",
            "\n",
            "Collecting mujoco==2.3.7\n",
            "  Downloading mujoco-2.3.7-cp311-cp311-manylinux_2_17_x86_64.manylinux2014_x86_64.whl.metadata (35 kB)\n",
            "Requirement already satisfied: absl-py in /usr/local/lib/python3.11/dist-packages (from mujoco==2.3.7) (1.4.0)\n",
            "Requirement already satisfied: glfw in /usr/local/lib/python3.11/dist-packages (from mujoco==2.3.7) (2.8.0)\n",
            "Requirement already satisfied: numpy in /usr/local/lib/python3.11/dist-packages (from mujoco==2.3.7) (2.0.2)\n",
            "Requirement already satisfied: pyopengl in /usr/local/lib/python3.11/dist-packages (from mujoco==2.3.7) (3.1.9)\n",
            "Downloading mujoco-2.3.7-cp311-cp311-manylinux_2_17_x86_64.manylinux2014_x86_64.whl (4.6 MB)\n",
            "\u001b[2K   \u001b[90m━━━━━━━━━━━━━━━━━━━━━━━━━━━━━━━━━━━━━━━━\u001b[0m \u001b[32m4.6/4.6 MB\u001b[0m \u001b[31m34.0 MB/s\u001b[0m eta \u001b[36m0:00:00\u001b[0m\n",
            "\u001b[?25hInstalling collected packages: mujoco\n",
            "  Attempting uninstall: mujoco\n",
            "    Found existing installation: mujoco 3.3.0\n",
            "    Uninstalling mujoco-3.3.0:\n",
            "      Successfully uninstalled mujoco-3.3.0\n",
            "\u001b[31mERROR: pip's dependency resolver does not currently take into account all the packages that are installed. This behaviour is the source of the following dependency conflicts.\n",
            "dm-control 1.0.28 requires mujoco>=3.2.7, but you have mujoco 2.3.7 which is incompatible.\u001b[0m\u001b[31m\n",
            "\u001b[0mSuccessfully installed mujoco-2.3.7\n"
          ]
        },
        {
          "output_type": "display_data",
          "data": {
            "application/vnd.colab-display-data+json": {
              "pip_warning": {
                "packages": [
                  "mujoco"
                ]
              },
              "id": "bfaf5aeb0e0e487582eee39f2f268d58"
            }
          },
          "metadata": {}
        },
        {
          "output_type": "stream",
          "name": "stdout",
          "text": [
            "Requirement already satisfied: dm_control in /usr/local/lib/python3.11/dist-packages (1.0.28)\n",
            "Requirement already satisfied: absl-py>=0.7.0 in /usr/local/lib/python3.11/dist-packages (from dm_control) (1.4.0)\n",
            "Requirement already satisfied: dm-env in /usr/local/lib/python3.11/dist-packages (from dm_control) (1.6)\n",
            "Requirement already satisfied: dm-tree!=0.1.2 in /usr/local/lib/python3.11/dist-packages (from dm_control) (0.1.9)\n",
            "Requirement already satisfied: glfw in /usr/local/lib/python3.11/dist-packages (from dm_control) (2.8.0)\n",
            "Requirement already satisfied: labmaze in /usr/local/lib/python3.11/dist-packages (from dm_control) (1.0.6)\n",
            "Requirement already satisfied: lxml in /usr/local/lib/python3.11/dist-packages (from dm_control) (5.3.1)\n",
            "Collecting mujoco>=3.2.7 (from dm_control)\n",
            "  Using cached mujoco-3.3.0-cp311-cp311-manylinux_2_17_x86_64.manylinux2014_x86_64.whl.metadata (44 kB)\n",
            "Requirement already satisfied: numpy>=1.9.0 in /usr/local/lib/python3.11/dist-packages (from dm_control) (2.0.2)\n",
            "Requirement already satisfied: protobuf>=3.19.4 in /usr/local/lib/python3.11/dist-packages (from dm_control) (5.29.4)\n",
            "Requirement already satisfied: pyopengl>=3.1.4 in /usr/local/lib/python3.11/dist-packages (from dm_control) (3.1.9)\n",
            "Requirement already satisfied: pyparsing>=3.0.0 in /usr/local/lib/python3.11/dist-packages (from dm_control) (3.2.3)\n",
            "Requirement already satisfied: requests in /usr/local/lib/python3.11/dist-packages (from dm_control) (2.32.3)\n",
            "Requirement already satisfied: setuptools!=50.0.0 in /usr/local/lib/python3.11/dist-packages (from dm_control) (75.2.0)\n",
            "Requirement already satisfied: scipy in /usr/local/lib/python3.11/dist-packages (from dm_control) (1.14.1)\n",
            "Requirement already satisfied: tqdm in /usr/local/lib/python3.11/dist-packages (from dm_control) (4.67.1)\n",
            "Requirement already satisfied: attrs>=18.2.0 in /usr/local/lib/python3.11/dist-packages (from dm-tree!=0.1.2->dm_control) (25.3.0)\n",
            "Requirement already satisfied: wrapt>=1.11.2 in /usr/local/lib/python3.11/dist-packages (from dm-tree!=0.1.2->dm_control) (1.17.2)\n",
            "Requirement already satisfied: etils[epath] in /usr/local/lib/python3.11/dist-packages (from mujoco>=3.2.7->dm_control) (1.12.2)\n",
            "Requirement already satisfied: charset-normalizer<4,>=2 in /usr/local/lib/python3.11/dist-packages (from requests->dm_control) (3.4.1)\n",
            "Requirement already satisfied: idna<4,>=2.5 in /usr/local/lib/python3.11/dist-packages (from requests->dm_control) (3.10)\n",
            "Requirement already satisfied: urllib3<3,>=1.21.1 in /usr/local/lib/python3.11/dist-packages (from requests->dm_control) (2.3.0)\n",
            "Requirement already satisfied: certifi>=2017.4.17 in /usr/local/lib/python3.11/dist-packages (from requests->dm_control) (2025.1.31)\n",
            "Requirement already satisfied: fsspec in /usr/local/lib/python3.11/dist-packages (from etils[epath]->mujoco>=3.2.7->dm_control) (2025.3.2)\n",
            "Requirement already satisfied: importlib_resources in /usr/local/lib/python3.11/dist-packages (from etils[epath]->mujoco>=3.2.7->dm_control) (6.5.2)\n",
            "Requirement already satisfied: typing_extensions in /usr/local/lib/python3.11/dist-packages (from etils[epath]->mujoco>=3.2.7->dm_control) (4.13.0)\n",
            "Requirement already satisfied: zipp in /usr/local/lib/python3.11/dist-packages (from etils[epath]->mujoco>=3.2.7->dm_control) (3.21.0)\n",
            "Using cached mujoco-3.3.0-cp311-cp311-manylinux_2_17_x86_64.manylinux2014_x86_64.whl (6.6 MB)\n",
            "Installing collected packages: mujoco\n",
            "  Attempting uninstall: mujoco\n",
            "    Found existing installation: mujoco 2.3.7\n",
            "    Uninstalling mujoco-2.3.7:\n",
            "      Successfully uninstalled mujoco-2.3.7\n",
            "Successfully installed mujoco-3.3.0\n"
          ]
        },
        {
          "output_type": "display_data",
          "data": {
            "application/vnd.colab-display-data+json": {
              "pip_warning": {
                "packages": [
                  "mujoco"
                ]
              },
              "id": "f64187ae85e14da2830f2483db2b5a8f"
            }
          },
          "metadata": {}
        }
      ]
    },
    {
      "cell_type": "code",
      "source": [
        "import os\n",
        "os.environ[\"MUJOCO_GL\"] = \"egl\"\n",
        "\n",
        "from dm_control import suite\n"
      ],
      "metadata": {
        "id": "MOaKwQyB1AKU"
      },
      "id": "MOaKwQyB1AKU",
      "execution_count": 1,
      "outputs": []
    },
    {
      "cell_type": "code",
      "source": [
        "env = suite.load(domain_name=\"humanoid\", task_name=\"stand\")\n",
        "frame = env.physics.render(camera_id=0, height=240, width=320)\n"
      ],
      "metadata": {
        "id": "-NXHWxuX1EE5"
      },
      "id": "-NXHWxuX1EE5",
      "execution_count": 2,
      "outputs": []
    },
    {
      "cell_type": "code",
      "source": [
        "import cv2\n",
        "import numpy as np\n",
        "from dm_control import suite\n",
        "from IPython.display import HTML\n",
        "from base64 import b64encode\n",
        "\n",
        "# Load the humanoid-stand environment\n",
        "env = suite.load(domain_name=\"humanoid\", task_name=\"stand\")\n",
        "\n",
        "# Video writer setup\n",
        "video_path = \"./humanoid_stand.avi\"\n",
        "width, height = 320, 240\n",
        "fps = 30\n",
        "out = cv2.VideoWriter(video_path, cv2.VideoWriter_fourcc(*\"XVID\"), fps, (width, height))\n",
        "\n",
        "# Reset environment\n",
        "ts = env.reset()\n",
        "\n",
        "# Collect frames\n",
        "for _ in range(150):  # 150 frames ~ 5 seconds\n",
        "    action = np.random.uniform(low=env.action_spec().minimum,\n",
        "                               high=env.action_spec().maximum,\n",
        "                               size=env.action_spec().shape)\n",
        "    ts = env.step(action)\n",
        "\n",
        "    frame = env.physics.render(camera_id=0, height=height, width=width)\n",
        "    frame_bgr = cv2.cvtColor(frame, cv2.COLOR_RGB2BGR)\n",
        "    out.write(frame_bgr)\n",
        "\n",
        "out.release()\n"
      ],
      "metadata": {
        "id": "lJIgBvGuzUEH"
      },
      "id": "lJIgBvGuzUEH",
      "execution_count": 4,
      "outputs": []
    },
    {
      "cell_type": "code",
      "source": [],
      "metadata": {
        "id": "C9G2d2J1zT-p"
      },
      "id": "C9G2d2J1zT-p",
      "execution_count": null,
      "outputs": []
    },
    {
      "cell_type": "code",
      "source": [],
      "metadata": {
        "id": "DEFUoevwzT8F"
      },
      "id": "DEFUoevwzT8F",
      "execution_count": null,
      "outputs": []
    },
    {
      "cell_type": "markdown",
      "id": "b5d2d8e6",
      "metadata": {
        "id": "b5d2d8e6"
      },
      "source": [
        "## ⚙️ Define your Gym wrapper\n",
        "_You'll need to convert `dm_control` into a Gym-compatible environment._"
      ]
    },
    {
      "cell_type": "code",
      "source": [
        "# !pip uninstall -y gym gymnasium\n",
        "!pip install gym\n"
      ],
      "metadata": {
        "id": "zP2K0V5vhVpg",
        "outputId": "6a442335-7f4e-4b6d-fb1e-17b664dc2a1f",
        "colab": {
          "base_uri": "https://localhost:8080/",
          "height": 567
        }
      },
      "id": "zP2K0V5vhVpg",
      "execution_count": 32,
      "outputs": [
        {
          "output_type": "stream",
          "name": "stdout",
          "text": [
            "Found existing installation: gym 0.25.2\n",
            "Uninstalling gym-0.25.2:\n",
            "  Successfully uninstalled gym-0.25.2\n",
            "Found existing installation: gymnasium 1.1.1\n",
            "Uninstalling gymnasium-1.1.1:\n",
            "  Successfully uninstalled gymnasium-1.1.1\n",
            "Collecting gym\n",
            "  Downloading gym-0.26.2.tar.gz (721 kB)\n",
            "\u001b[2K     \u001b[90m━━━━━━━━━━━━━━━━━━━━━━━━━━━━━━━━━━━━━━━━\u001b[0m \u001b[32m721.7/721.7 kB\u001b[0m \u001b[31m35.3 MB/s\u001b[0m eta \u001b[36m0:00:00\u001b[0m\n",
            "\u001b[?25h  Installing build dependencies ... \u001b[?25l\u001b[?25hdone\n",
            "  Getting requirements to build wheel ... \u001b[?25l\u001b[?25hdone\n",
            "  Preparing metadata (pyproject.toml) ... \u001b[?25l\u001b[?25hdone\n",
            "Requirement already satisfied: numpy>=1.18.0 in /usr/local/lib/python3.11/dist-packages (from gym) (2.0.2)\n",
            "Requirement already satisfied: cloudpickle>=1.2.0 in /usr/local/lib/python3.11/dist-packages (from gym) (3.1.1)\n",
            "Requirement already satisfied: gym_notices>=0.0.4 in /usr/local/lib/python3.11/dist-packages (from gym) (0.0.8)\n",
            "Building wheels for collected packages: gym\n",
            "  Building wheel for gym (pyproject.toml) ... \u001b[?25l\u001b[?25hdone\n",
            "  Created wheel for gym: filename=gym-0.26.2-py3-none-any.whl size=827726 sha256=b32f32e8c6b4ce8748e04b3af37a1be2de60ceeac04a1cc3f7003bf4d054dbdb\n",
            "  Stored in directory: /root/.cache/pip/wheels/1c/77/9e/9af5470201a0b0543937933ee99ba884cd237d2faefe8f4d37\n",
            "Successfully built gym\n",
            "Installing collected packages: gym\n",
            "\u001b[31mERROR: pip's dependency resolver does not currently take into account all the packages that are installed. This behaviour is the source of the following dependency conflicts.\n",
            "dopamine-rl 4.1.2 requires gymnasium>=1.0.0, which is not installed.\n",
            "dopamine-rl 4.1.2 requires gym<=0.25.2, but you have gym 0.26.2 which is incompatible.\u001b[0m\u001b[31m\n",
            "\u001b[0mSuccessfully installed gym-0.26.2\n"
          ]
        },
        {
          "output_type": "display_data",
          "data": {
            "application/vnd.colab-display-data+json": {
              "pip_warning": {
                "packages": [
                  "gym"
                ]
              },
              "id": "a8ef79965a384c169611163e5591db40"
            }
          },
          "metadata": {}
        }
      ]
    },
    {
      "cell_type": "code",
      "source": [
        "for obs_cat in list(obs_spec.keys()):\n",
        "  print(obs_spec[obs_cat])"
      ],
      "metadata": {
        "id": "s2Nn5iMlZa1Z",
        "outputId": "646ce714-30a2-4a87-df57-3dc15fe1d48a",
        "colab": {
          "base_uri": "https://localhost:8080/"
        }
      },
      "id": "s2Nn5iMlZa1Z",
      "execution_count": 2,
      "outputs": [
        {
          "output_type": "stream",
          "name": "stdout",
          "text": [
            "Array(shape=(21,), dtype=dtype('float64'), name='joint_angles')\n",
            "Array(shape=(), dtype=dtype('float64'), name='head_height')\n",
            "Array(shape=(12,), dtype=dtype('float64'), name='extremities')\n",
            "Array(shape=(3,), dtype=dtype('float64'), name='torso_vertical')\n",
            "Array(shape=(3,), dtype=dtype('float64'), name='com_velocity')\n",
            "Array(shape=(27,), dtype=dtype('float64'), name='velocity')\n"
          ]
        }
      ]
    },
    {
      "cell_type": "code",
      "source": [
        "21+1+12+3+3+27"
      ],
      "metadata": {
        "id": "cOfKPp3HZbwD",
        "outputId": "48e2643a-ceac-4837-f80b-e4fef5fd3bdf",
        "colab": {
          "base_uri": "https://localhost:8080/"
        }
      },
      "id": "cOfKPp3HZbwD",
      "execution_count": 14,
      "outputs": [
        {
          "output_type": "execute_result",
          "data": {
            "text/plain": [
              "67"
            ]
          },
          "metadata": {},
          "execution_count": 14
        }
      ]
    },
    {
      "cell_type": "code",
      "source": [
        "# Reset the environment and inspect the first observation\n",
        "time_step = env.reset()\n",
        "print(\"Observation space:\")\n",
        "for key, value in time_step.observation.items():\n",
        "    print(f\"{key}: shape={value.shape}, sample={value.ravel()[:5]}...\")  # show a few values\n",
        "\n",
        "# Print action spec\n",
        "action_spec = env.action_spec()\n",
        "print(\"\\n Action Space:\")\n",
        "print(f\"Shape: {action_spec.shape}, Minimum: {action_spec.minimum}, Maximum: {action_spec.maximum}\")\n"
      ],
      "metadata": {
        "id": "n77eSQeNZbsh",
        "outputId": "54859701-6b85-45b3-b7c8-dec3f39a1168",
        "colab": {
          "base_uri": "https://localhost:8080/"
        }
      },
      "id": "n77eSQeNZbsh",
      "execution_count": 16,
      "outputs": [
        {
          "output_type": "stream",
          "name": "stdout",
          "text": [
            "Observation space:\n",
            "joint_angles: shape=(21,), sample=[ 0.16468221 -0.48622888  0.09904348 -0.06312086 -0.31977614]...\n",
            "head_height: shape=(), sample=[1.51069818]...\n",
            "extremities: shape=(12,), sample=[0.23760685 0.1402834  0.20515201 0.16415527 0.27422706]...\n",
            "torso_vertical: shape=(3,), sample=[-0.00881745  0.99837461  0.05630623]...\n",
            "com_velocity: shape=(3,), sample=[0. 0. 0.]...\n",
            "velocity: shape=(27,), sample=[0. 0. 0. 0. 0.]...\n",
            "\n",
            " Action Space:\n",
            "Shape: (21,), Minimum: [-1. -1. -1. -1. -1. -1. -1. -1. -1. -1. -1. -1. -1. -1. -1. -1. -1. -1.\n",
            " -1. -1. -1.], Maximum: [1. 1. 1. 1. 1. 1. 1. 1. 1. 1. 1. 1. 1. 1. 1. 1. 1. 1. 1. 1. 1.]\n"
          ]
        }
      ]
    },
    {
      "cell_type": "code",
      "source": [],
      "metadata": {
        "id": "nDwkaBC_Zbp8"
      },
      "id": "nDwkaBC_Zbp8",
      "execution_count": null,
      "outputs": []
    },
    {
      "cell_type": "code",
      "source": [],
      "metadata": {
        "id": "EJqSRgJnafSr"
      },
      "id": "EJqSRgJnafSr",
      "execution_count": 17,
      "outputs": []
    },
    {
      "cell_type": "code",
      "source": [],
      "metadata": {
        "id": "f96VG_yNafPG"
      },
      "id": "f96VG_yNafPG",
      "execution_count": null,
      "outputs": []
    },
    {
      "cell_type": "code",
      "source": [],
      "metadata": {
        "id": "838ntUsYafMY"
      },
      "id": "838ntUsYafMY",
      "execution_count": null,
      "outputs": []
    },
    {
      "cell_type": "code",
      "source": [],
      "metadata": {
        "id": "nUyuchAAafJw"
      },
      "id": "nUyuchAAafJw",
      "execution_count": 20,
      "outputs": []
    },
    {
      "cell_type": "code",
      "source": [
        "gym.spaces.Box(low=-np.inf, high=np.inf, shape=(67,), dtype=np.float64 )"
      ],
      "metadata": {
        "id": "ZGsSlAm5ZbnZ",
        "outputId": "56a27c5d-ab59-4334-e612-2b6028b48d2f",
        "colab": {
          "base_uri": "https://localhost:8080/"
        }
      },
      "id": "ZGsSlAm5ZbnZ",
      "execution_count": 23,
      "outputs": [
        {
          "output_type": "execute_result",
          "data": {
            "text/plain": [
              "Box(-inf, inf, (67,), float64)"
            ]
          },
          "metadata": {},
          "execution_count": 23
        }
      ]
    },
    {
      "cell_type": "code",
      "source": [
        "gym.spaces.Box(low=-1.0, high=1.0, shape=(21,), dtype=np.float64)"
      ],
      "metadata": {
        "id": "8IsRtYOnbBFd",
        "outputId": "b7a6ee27-8931-4f01-87cf-506e1f90bb4a",
        "colab": {
          "base_uri": "https://localhost:8080/"
        }
      },
      "id": "8IsRtYOnbBFd",
      "execution_count": 24,
      "outputs": [
        {
          "output_type": "execute_result",
          "data": {
            "text/plain": [
              "Box(-1.0, 1.0, (21,), float64)"
            ]
          },
          "metadata": {},
          "execution_count": 24
        }
      ]
    },
    {
      "cell_type": "code",
      "source": [
        "!pip install -q gymnasium"
      ],
      "metadata": {
        "id": "6L3PU_GShsHh",
        "outputId": "405220c9-01ca-4051-b11a-1496f2f3e926",
        "colab": {
          "base_uri": "https://localhost:8080/"
        }
      },
      "id": "6L3PU_GShsHh",
      "execution_count": 5,
      "outputs": [
        {
          "output_type": "stream",
          "name": "stdout",
          "text": [
            "\u001b[?25l   \u001b[90m━━━━━━━━━━━━━━━━━━━━━━━━━━━━━━━━━━━━━━━━\u001b[0m \u001b[32m0.0/965.4 kB\u001b[0m \u001b[31m?\u001b[0m eta \u001b[36m-:--:--\u001b[0m\r\u001b[2K   \u001b[90m━━━━━━━━━━━━━━━━━━━━━━━━━━━━━━━━━━━━━━━━\u001b[0m \u001b[32m965.4/965.4 kB\u001b[0m \u001b[31m36.2 MB/s\u001b[0m eta \u001b[36m0:00:00\u001b[0m\n",
            "\u001b[?25h\u001b[31mERROR: pip's dependency resolver does not currently take into account all the packages that are installed. This behaviour is the source of the following dependency conflicts.\n",
            "dopamine-rl 4.1.2 requires gym<=0.25.2, but you have gym 0.26.2 which is incompatible.\u001b[0m\u001b[31m\n",
            "\u001b[0m"
          ]
        }
      ]
    },
    {
      "cell_type": "code",
      "source": [
        "from stable_baselines3.common.env_checker import check_env"
      ],
      "metadata": {
        "id": "OyiVykIGhkWX"
      },
      "id": "OyiVykIGhkWX",
      "execution_count": 6,
      "outputs": []
    },
    {
      "cell_type": "code",
      "execution_count": 9,
      "id": "744adeb7",
      "metadata": {
        "id": "744adeb7",
        "outputId": "358fc7b1-ee16-4f99-cbb9-1c48eeb903e4",
        "colab": {
          "base_uri": "https://localhost:8080/",
          "height": 495
        }
      },
      "outputs": [
        {
          "output_type": "error",
          "ename": "TypeError",
          "evalue": "The reset() method must accept a `seed` parameter",
          "traceback": [
            "\u001b[0;31m---------------------------------------------------------------------------\u001b[0m",
            "\u001b[0;31mTypeError\u001b[0m                                 Traceback (most recent call last)",
            "\u001b[0;32m/usr/local/lib/python3.11/dist-packages/stable_baselines3/common/env_checker.py\u001b[0m in \u001b[0;36mcheck_env\u001b[0;34m(env, warn, skip_render_check)\u001b[0m\n\u001b[1;32m    441\u001b[0m     \u001b[0;32mtry\u001b[0m\u001b[0;34m:\u001b[0m\u001b[0;34m\u001b[0m\u001b[0;34m\u001b[0m\u001b[0m\n\u001b[0;32m--> 442\u001b[0;31m         \u001b[0menv\u001b[0m\u001b[0;34m.\u001b[0m\u001b[0mreset\u001b[0m\u001b[0;34m(\u001b[0m\u001b[0mseed\u001b[0m\u001b[0;34m=\u001b[0m\u001b[0;36m0\u001b[0m\u001b[0;34m)\u001b[0m\u001b[0;34m\u001b[0m\u001b[0;34m\u001b[0m\u001b[0m\n\u001b[0m\u001b[1;32m    443\u001b[0m     \u001b[0;32mexcept\u001b[0m \u001b[0mTypeError\u001b[0m \u001b[0;32mas\u001b[0m \u001b[0me\u001b[0m\u001b[0;34m:\u001b[0m\u001b[0;34m\u001b[0m\u001b[0;34m\u001b[0m\u001b[0m\n",
            "\u001b[0;31mTypeError\u001b[0m: DMCWrapper.reset() got an unexpected keyword argument 'seed'",
            "\nThe above exception was the direct cause of the following exception:\n",
            "\u001b[0;31mTypeError\u001b[0m                                 Traceback (most recent call last)",
            "\u001b[0;32m<ipython-input-9-83bbf7929f5d>\u001b[0m in \u001b[0;36m<cell line: 0>\u001b[0;34m()\u001b[0m\n\u001b[1;32m     25\u001b[0m         \u001b[0;32mreturn\u001b[0m \u001b[0mnp\u001b[0m\u001b[0;34m.\u001b[0m\u001b[0mconcatenate\u001b[0m\u001b[0;34m(\u001b[0m\u001b[0;34m[\u001b[0m\u001b[0mv\u001b[0m\u001b[0;34m.\u001b[0m\u001b[0mravel\u001b[0m\u001b[0;34m(\u001b[0m\u001b[0;34m)\u001b[0m \u001b[0;32mfor\u001b[0m \u001b[0mv\u001b[0m \u001b[0;32min\u001b[0m \u001b[0mobs\u001b[0m\u001b[0;34m.\u001b[0m\u001b[0mvalues\u001b[0m\u001b[0;34m(\u001b[0m\u001b[0;34m)\u001b[0m\u001b[0;34m]\u001b[0m\u001b[0;34m)\u001b[0m\u001b[0;34m\u001b[0m\u001b[0;34m\u001b[0m\u001b[0m\n\u001b[1;32m     26\u001b[0m \u001b[0menv\u001b[0m \u001b[0;34m=\u001b[0m \u001b[0mDMCWrapper\u001b[0m\u001b[0;34m(\u001b[0m\u001b[0;34m)\u001b[0m\u001b[0;34m\u001b[0m\u001b[0;34m\u001b[0m\u001b[0m\n\u001b[0;32m---> 27\u001b[0;31m \u001b[0mcheck_env\u001b[0m\u001b[0;34m(\u001b[0m\u001b[0menv\u001b[0m\u001b[0;34m)\u001b[0m\u001b[0;34m\u001b[0m\u001b[0;34m\u001b[0m\u001b[0m\n\u001b[0m",
            "\u001b[0;32m/usr/local/lib/python3.11/dist-packages/stable_baselines3/common/env_checker.py\u001b[0m in \u001b[0;36mcheck_env\u001b[0;34m(env, warn, skip_render_check)\u001b[0m\n\u001b[1;32m    442\u001b[0m         \u001b[0menv\u001b[0m\u001b[0;34m.\u001b[0m\u001b[0mreset\u001b[0m\u001b[0;34m(\u001b[0m\u001b[0mseed\u001b[0m\u001b[0;34m=\u001b[0m\u001b[0;36m0\u001b[0m\u001b[0;34m)\u001b[0m\u001b[0;34m\u001b[0m\u001b[0;34m\u001b[0m\u001b[0m\n\u001b[1;32m    443\u001b[0m     \u001b[0;32mexcept\u001b[0m \u001b[0mTypeError\u001b[0m \u001b[0;32mas\u001b[0m \u001b[0me\u001b[0m\u001b[0;34m:\u001b[0m\u001b[0;34m\u001b[0m\u001b[0;34m\u001b[0m\u001b[0m\n\u001b[0;32m--> 444\u001b[0;31m         \u001b[0;32mraise\u001b[0m \u001b[0mTypeError\u001b[0m\u001b[0;34m(\u001b[0m\u001b[0;34m\"The reset() method must accept a `seed` parameter\"\u001b[0m\u001b[0;34m)\u001b[0m \u001b[0;32mfrom\u001b[0m \u001b[0me\u001b[0m\u001b[0;34m\u001b[0m\u001b[0;34m\u001b[0m\u001b[0m\n\u001b[0m\u001b[1;32m    445\u001b[0m \u001b[0;34m\u001b[0m\u001b[0m\n\u001b[1;32m    446\u001b[0m     \u001b[0;31m# Warn the user if needed.\u001b[0m\u001b[0;34m\u001b[0m\u001b[0;34m\u001b[0m\u001b[0m\n",
            "\u001b[0;31mTypeError\u001b[0m: The reset() method must accept a `seed` parameter"
          ]
        }
      ],
      "source": [
        "# TODO: Implement a wrapper that exposes reset(), step(), observation_space, action_space\n",
        "# You may want to flatten the observation dict into a single np.ndarray\n",
        "\n",
        "import gymnasium as gym\n",
        "import numpy as np\n",
        "\n",
        "class DMCWrapper(gym.Env):\n",
        "    def __init__(self):\n",
        "        self.env = suite.load(domain_name=\"humanoid\", task_name=\"stand\")\n",
        "        self.observation_space = gym.spaces.Box(low=-np.inf, high=np.inf, shape=(67,), dtype=np.float64 )\n",
        "        self.action_space = gym.spaces.Box(low=-1.0, high=1.0, shape=(21,), dtype=np.float64)\n",
        "\n",
        "    def reset(self, seed=None):\n",
        "        ts = self.env.reset()\n",
        "        return self._flatten_obs(ts.observation)\n",
        "\n",
        "    def step(self, action):\n",
        "        ts = self.env.step(action)\n",
        "        obs = self._flatten_obs(ts.observation)\n",
        "        reward = ts.reward or 0.0\n",
        "        done = ts.last()\n",
        "        return obs, reward, done, {}\n",
        "\n",
        "    def _flatten_obs(self, obs):\n",
        "        return np.concatenate([v.ravel() for v in obs.values()])\n",
        "env = DMCWrapper()\n",
        "check_env(env)"
      ]
    },
    {
      "cell_type": "code",
      "source": [],
      "metadata": {
        "id": "tMO0BoJYby04"
      },
      "id": "tMO0BoJYby04",
      "execution_count": 27,
      "outputs": []
    },
    {
      "cell_type": "code",
      "source": [],
      "metadata": {
        "id": "O3p2AIVMg_Ym",
        "outputId": "18d5775d-43e2-4e3d-b7de-41f9dabcf2a7",
        "colab": {
          "base_uri": "https://localhost:8080/",
          "height": 280
        }
      },
      "id": "O3p2AIVMg_Ym",
      "execution_count": 30,
      "outputs": [
        {
          "output_type": "error",
          "ename": "AssertionError",
          "evalue": "Your environment must inherit from the gymnasium.Env class cf. https://gymnasium.farama.org/api/env/",
          "traceback": [
            "\u001b[0;31m---------------------------------------------------------------------------\u001b[0m",
            "\u001b[0;31mAssertionError\u001b[0m                            Traceback (most recent call last)",
            "\u001b[0;32m<ipython-input-30-86e6362337ea>\u001b[0m in \u001b[0;36m<cell line: 0>\u001b[0;34m()\u001b[0m\n\u001b[1;32m      1\u001b[0m \u001b[0menv\u001b[0m \u001b[0;34m=\u001b[0m \u001b[0mDMCWrapper\u001b[0m\u001b[0;34m(\u001b[0m\u001b[0;34m)\u001b[0m\u001b[0;34m\u001b[0m\u001b[0;34m\u001b[0m\u001b[0m\n\u001b[0;32m----> 2\u001b[0;31m \u001b[0mcheck_env\u001b[0m\u001b[0;34m(\u001b[0m\u001b[0menv\u001b[0m\u001b[0;34m)\u001b[0m\u001b[0;34m\u001b[0m\u001b[0;34m\u001b[0m\u001b[0m\n\u001b[0m",
            "\u001b[0;32m/usr/local/lib/python3.11/dist-packages/stable_baselines3/common/env_checker.py\u001b[0m in \u001b[0;36mcheck_env\u001b[0;34m(env, warn, skip_render_check)\u001b[0m\n\u001b[1;32m    428\u001b[0m         \u001b[0;32mTrue\u001b[0m \u001b[0mby\u001b[0m \u001b[0mdefault\u001b[0m \u001b[0;34m(\u001b[0m\u001b[0museful\u001b[0m \u001b[0;32mfor\u001b[0m \u001b[0mthe\u001b[0m \u001b[0mCI\u001b[0m\u001b[0;34m)\u001b[0m\u001b[0;34m\u001b[0m\u001b[0;34m\u001b[0m\u001b[0m\n\u001b[1;32m    429\u001b[0m     \"\"\"\n\u001b[0;32m--> 430\u001b[0;31m     assert isinstance(\n\u001b[0m\u001b[1;32m    431\u001b[0m         \u001b[0menv\u001b[0m\u001b[0;34m,\u001b[0m \u001b[0mgym\u001b[0m\u001b[0;34m.\u001b[0m\u001b[0mEnv\u001b[0m\u001b[0;34m\u001b[0m\u001b[0;34m\u001b[0m\u001b[0m\n\u001b[1;32m    432\u001b[0m     ), \"Your environment must inherit from the gymnasium.Env class cf. https://gymnasium.farama.org/api/env/\"\n",
            "\u001b[0;31mAssertionError\u001b[0m: Your environment must inherit from the gymnasium.Env class cf. https://gymnasium.farama.org/api/env/"
          ]
        }
      ]
    },
    {
      "cell_type": "markdown",
      "id": "5d87977e",
      "metadata": {
        "id": "5d87977e"
      },
      "source": [
        "## 🤖 Train with PPO (optional starter agent in src/agents/ppo_agent.py)"
      ]
    },
    {
      "cell_type": "code",
      "execution_count": null,
      "id": "7661ae73",
      "metadata": {
        "id": "7661ae73"
      },
      "outputs": [],
      "source": [
        "# TODO: Import your wrapped env and train with PPO\n",
        "# from stable_baselines3 import PPO\n",
        "# model = PPO('MlpPolicy', your_wrapped_env, verbose=1)\n",
        "# model.learn(total_timesteps=...)"
      ]
    },
    {
      "cell_type": "markdown",
      "id": "53365065",
      "metadata": {
        "id": "53365065"
      },
      "source": [
        "## ✅ Evaluate your trained policy"
      ]
    },
    {
      "cell_type": "code",
      "execution_count": null,
      "id": "9ae355fd",
      "metadata": {
        "id": "9ae355fd"
      },
      "outputs": [],
      "source": [
        "# TODO: Load model, run inference loop, visualize behavior (if desired)\n",
        "# obs = env.reset()\n",
        "# for _ in range(1000):\n",
        "#     action, _ = model.predict(obs)\n",
        "#     obs, reward, done, info = env.step(action)\n",
        "#     if done:\n",
        "#         break"
      ]
    },
    {
      "cell_type": "markdown",
      "id": "9d549c48",
      "metadata": {
        "id": "9d549c48"
      },
      "source": [
        "## 🧪 PPO Training on DummyEnv\n",
        "Here's a working example of PPO training on a simple dummy environment."
      ]
    },
    {
      "cell_type": "code",
      "execution_count": 11,
      "id": "425d5ecb",
      "metadata": {
        "id": "425d5ecb",
        "outputId": "3696fd82-a635-4352-b10f-9fdbcd683eff",
        "colab": {
          "base_uri": "https://localhost:8080/",
          "height": 529
        }
      },
      "outputs": [
        {
          "output_type": "error",
          "ename": "TypeError",
          "evalue": "The reset() method must accept a `seed` parameter",
          "traceback": [
            "\u001b[0;31m---------------------------------------------------------------------------\u001b[0m",
            "\u001b[0;31mTypeError\u001b[0m                                 Traceback (most recent call last)",
            "\u001b[0;32m/usr/local/lib/python3.11/dist-packages/stable_baselines3/common/env_checker.py\u001b[0m in \u001b[0;36mcheck_env\u001b[0;34m(env, warn, skip_render_check)\u001b[0m\n\u001b[1;32m    441\u001b[0m     \u001b[0;32mtry\u001b[0m\u001b[0;34m:\u001b[0m\u001b[0;34m\u001b[0m\u001b[0;34m\u001b[0m\u001b[0m\n\u001b[0;32m--> 442\u001b[0;31m         \u001b[0menv\u001b[0m\u001b[0;34m.\u001b[0m\u001b[0mreset\u001b[0m\u001b[0;34m(\u001b[0m\u001b[0mseed\u001b[0m\u001b[0;34m=\u001b[0m\u001b[0;36m0\u001b[0m\u001b[0;34m)\u001b[0m\u001b[0;34m\u001b[0m\u001b[0;34m\u001b[0m\u001b[0m\n\u001b[0m\u001b[1;32m    443\u001b[0m     \u001b[0;32mexcept\u001b[0m \u001b[0mTypeError\u001b[0m \u001b[0;32mas\u001b[0m \u001b[0me\u001b[0m\u001b[0;34m:\u001b[0m\u001b[0;34m\u001b[0m\u001b[0;34m\u001b[0m\u001b[0m\n",
            "\u001b[0;31mTypeError\u001b[0m: DummyEnv.reset() got an unexpected keyword argument 'seed'",
            "\nThe above exception was the direct cause of the following exception:\n",
            "\u001b[0;31mTypeError\u001b[0m                                 Traceback (most recent call last)",
            "\u001b[0;32m<ipython-input-11-02f442c92930>\u001b[0m in \u001b[0;36m<cell line: 0>\u001b[0;34m()\u001b[0m\n\u001b[1;32m     21\u001b[0m \u001b[0;34m\u001b[0m\u001b[0m\n\u001b[1;32m     22\u001b[0m \u001b[0menv\u001b[0m \u001b[0;34m=\u001b[0m \u001b[0mDummyEnv\u001b[0m\u001b[0;34m(\u001b[0m\u001b[0;34m)\u001b[0m\u001b[0;34m\u001b[0m\u001b[0;34m\u001b[0m\u001b[0m\n\u001b[0;32m---> 23\u001b[0;31m \u001b[0mcheck_env\u001b[0m\u001b[0;34m(\u001b[0m\u001b[0menv\u001b[0m\u001b[0;34m)\u001b[0m\u001b[0;34m\u001b[0m\u001b[0;34m\u001b[0m\u001b[0m\n\u001b[0m\u001b[1;32m     24\u001b[0m \u001b[0;34m\u001b[0m\u001b[0m\n\u001b[1;32m     25\u001b[0m \u001b[0mmodel\u001b[0m \u001b[0;34m=\u001b[0m \u001b[0mPPO\u001b[0m\u001b[0;34m(\u001b[0m\u001b[0;34m\"MlpPolicy\"\u001b[0m\u001b[0;34m,\u001b[0m \u001b[0menv\u001b[0m\u001b[0;34m,\u001b[0m \u001b[0mverbose\u001b[0m\u001b[0;34m=\u001b[0m\u001b[0;36m1\u001b[0m\u001b[0;34m)\u001b[0m\u001b[0;34m\u001b[0m\u001b[0;34m\u001b[0m\u001b[0m\n",
            "\u001b[0;32m/usr/local/lib/python3.11/dist-packages/stable_baselines3/common/env_checker.py\u001b[0m in \u001b[0;36mcheck_env\u001b[0;34m(env, warn, skip_render_check)\u001b[0m\n\u001b[1;32m    442\u001b[0m         \u001b[0menv\u001b[0m\u001b[0;34m.\u001b[0m\u001b[0mreset\u001b[0m\u001b[0;34m(\u001b[0m\u001b[0mseed\u001b[0m\u001b[0;34m=\u001b[0m\u001b[0;36m0\u001b[0m\u001b[0;34m)\u001b[0m\u001b[0;34m\u001b[0m\u001b[0;34m\u001b[0m\u001b[0m\n\u001b[1;32m    443\u001b[0m     \u001b[0;32mexcept\u001b[0m \u001b[0mTypeError\u001b[0m \u001b[0;32mas\u001b[0m \u001b[0me\u001b[0m\u001b[0;34m:\u001b[0m\u001b[0;34m\u001b[0m\u001b[0;34m\u001b[0m\u001b[0m\n\u001b[0;32m--> 444\u001b[0;31m         \u001b[0;32mraise\u001b[0m \u001b[0mTypeError\u001b[0m\u001b[0;34m(\u001b[0m\u001b[0;34m\"The reset() method must accept a `seed` parameter\"\u001b[0m\u001b[0;34m)\u001b[0m \u001b[0;32mfrom\u001b[0m \u001b[0me\u001b[0m\u001b[0;34m\u001b[0m\u001b[0;34m\u001b[0m\u001b[0m\n\u001b[0m\u001b[1;32m    445\u001b[0m \u001b[0;34m\u001b[0m\u001b[0m\n\u001b[1;32m    446\u001b[0m     \u001b[0;31m# Warn the user if needed.\u001b[0m\u001b[0;34m\u001b[0m\u001b[0;34m\u001b[0m\u001b[0m\n",
            "\u001b[0;31mTypeError\u001b[0m: The reset() method must accept a `seed` parameter"
          ]
        }
      ],
      "source": [
        "\n",
        "import gymnasium as gym\n",
        "import numpy as np\n",
        "from stable_baselines3 import PPO\n",
        "from stable_baselines3.common.env_checker import check_env\n",
        "\n",
        "class DummyEnv(gym.Env):\n",
        "    def __init__(self):\n",
        "        super(DummyEnv, self).__init__()\n",
        "        self.observation_space = gym.spaces.Box(low=-1, high=1, shape=(10,), dtype=np.float32)\n",
        "        self.action_space = gym.spaces.Box(low=-1, high=1, shape=(4,), dtype=np.float32)\n",
        "\n",
        "    def reset(self):\n",
        "        return self.observation_space.sample()\n",
        "\n",
        "    def step(self, action):\n",
        "        obs = self.observation_space.sample()\n",
        "        reward = np.random.rand()\n",
        "        done = np.random.rand() > 0.95\n",
        "        info = {}\n",
        "        return obs, reward, done, info\n",
        "\n",
        "env = DummyEnv()\n",
        "check_env(env)\n",
        "\n",
        "model = PPO(\"MlpPolicy\", env, verbose=1)\n",
        "model.learn(total_timesteps=10000)\n",
        "print(\"✅ PPO training on DummyEnv completed!\")\n"
      ]
    },
    {
      "cell_type": "code",
      "source": [],
      "metadata": {
        "id": "arsVpmezh2v9"
      },
      "id": "arsVpmezh2v9",
      "execution_count": null,
      "outputs": []
    }
  ],
  "metadata": {
    "language_info": {
      "name": "python"
    },
    "colab": {
      "provenance": []
    },
    "kernelspec": {
      "name": "python3",
      "display_name": "Python 3"
    }
  },
  "nbformat": 4,
  "nbformat_minor": 5
}